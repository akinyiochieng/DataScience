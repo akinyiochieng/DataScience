{
  "nbformat": 4,
  "nbformat_minor": 0,
  "metadata": {
    "kernelspec": {
      "display_name": "Python 3",
      "language": "python",
      "name": "python3"
    },
    "language_info": {
      "codemirror_mode": {
        "name": "ipython",
        "version": 3
      },
      "file_extension": ".py",
      "mimetype": "text/x-python",
      "name": "python",
      "nbconvert_exporter": "python",
      "pygments_lexer": "ipython3",
      "version": "3.6.4"
    },
    "colab": {
      "name": "DEFAULTER_STUDENTS.ipynb",
      "provenance": []
    }
  },
  "cells": [
    {
      "cell_type": "markdown",
      "metadata": {
        "id": "JmmhAEHaCWBH"
      },
      "source": [
        "# DEFAULT RATE PREDICTION\n"
      ]
    },
    {
      "cell_type": "code",
      "metadata": {
        "id": "iIm80SpCCWBP"
      },
      "source": [
        "import pandas as pd\n",
        "import numpy as np\n",
        "import matplotlib.pyplot as plt\n",
        "import seaborn as sns\n",
        "from sklearn import svm\n",
        "from sklearn.svm import SVC\n",
        "from sklearn.neural_network import MLPClassifier\n",
        "from sklearn.metrics import confusion_matrix, classification_report\n",
        "from sklearn.preprocessing import StandardScaler, LabelEncoder\n",
        "from sklearn.model_selection import train_test_split\n",
        "from sklearn.ensemble import RandomForestClassifier\n",
        "from sklearn.metrics import accuracy_score\n",
        "%matplotlib inline\n",
        " "
      ],
      "execution_count": null,
      "outputs": []
    },
    {
      "cell_type": "code",
      "metadata": {
        "id": "D2unFoMUCWBQ"
      },
      "source": [
        "# Loading the dataset\n",
        "#dataset=pd.read_csv('desktop/default_rate.csv')\n",
        "dataset = pd.read_csv(r\"C:\\Users\\hp\\Default_Rate.csv\")\n"
      ],
      "execution_count": null,
      "outputs": []
    },
    {
      "cell_type": "code",
      "metadata": {
        "id": "9Q6_FXTBCWBQ",
        "outputId": "eb645e8d-ba5c-46d3-c54d-80ba02b0ec65"
      },
      "source": [
        "type(dataset)"
      ],
      "execution_count": null,
      "outputs": [
        {
          "output_type": "execute_result",
          "data": {
            "text/plain": [
              "pandas.core.frame.DataFrame"
            ]
          },
          "metadata": {
            "tags": []
          },
          "execution_count": 24
        }
      ]
    },
    {
      "cell_type": "code",
      "metadata": {
        "id": "6QpAtAbvCWBS",
        "outputId": "c817ade2-fbf4-4e16-9005-27fb31f3bdf4"
      },
      "source": [
        "dataset.info()\n"
      ],
      "execution_count": null,
      "outputs": [
        {
          "output_type": "stream",
          "text": [
            "<class 'pandas.core.frame.DataFrame'>\n",
            "RangeIndex: 10000 entries, 0 to 9999\n",
            "Data columns (total 4 columns):\n",
            "default    10000 non-null object\n",
            "student    10000 non-null object\n",
            "balance    10000 non-null float64\n",
            "income     10000 non-null float64\n",
            "dtypes: float64(2), object(2)\n",
            "memory usage: 312.6+ KB\n"
          ],
          "name": "stdout"
        }
      ]
    },
    {
      "cell_type": "code",
      "metadata": {
        "id": "EwjJYyMdCWBS",
        "outputId": "4e04c7d6-8942-4da7-b6b7-892e272acda0"
      },
      "source": [
        "dataset.isnull().sum()"
      ],
      "execution_count": null,
      "outputs": [
        {
          "output_type": "execute_result",
          "data": {
            "text/plain": [
              "default    0\n",
              "student    0\n",
              "balance    0\n",
              "income     0\n",
              "dtype: int64"
            ]
          },
          "metadata": {
            "tags": []
          },
          "execution_count": 26
        }
      ]
    },
    {
      "cell_type": "code",
      "metadata": {
        "id": "2XDKe6imCWBT",
        "outputId": "a6c6059a-0129-45dd-a153-8498008ed677"
      },
      "source": [
        "dataset.head()"
      ],
      "execution_count": null,
      "outputs": [
        {
          "output_type": "execute_result",
          "data": {
            "text/html": [
              "<div>\n",
              "<style scoped>\n",
              "    .dataframe tbody tr th:only-of-type {\n",
              "        vertical-align: middle;\n",
              "    }\n",
              "\n",
              "    .dataframe tbody tr th {\n",
              "        vertical-align: top;\n",
              "    }\n",
              "\n",
              "    .dataframe thead th {\n",
              "        text-align: right;\n",
              "    }\n",
              "</style>\n",
              "<table border=\"1\" class=\"dataframe\">\n",
              "  <thead>\n",
              "    <tr style=\"text-align: right;\">\n",
              "      <th></th>\n",
              "      <th>default</th>\n",
              "      <th>student</th>\n",
              "      <th>balance</th>\n",
              "      <th>income</th>\n",
              "    </tr>\n",
              "  </thead>\n",
              "  <tbody>\n",
              "    <tr>\n",
              "      <th>0</th>\n",
              "      <td>No</td>\n",
              "      <td>No</td>\n",
              "      <td>729.526495</td>\n",
              "      <td>44361.62507</td>\n",
              "    </tr>\n",
              "    <tr>\n",
              "      <th>1</th>\n",
              "      <td>No</td>\n",
              "      <td>Yes</td>\n",
              "      <td>817.180407</td>\n",
              "      <td>12106.13470</td>\n",
              "    </tr>\n",
              "    <tr>\n",
              "      <th>2</th>\n",
              "      <td>No</td>\n",
              "      <td>No</td>\n",
              "      <td>1073.549164</td>\n",
              "      <td>31767.13895</td>\n",
              "    </tr>\n",
              "    <tr>\n",
              "      <th>3</th>\n",
              "      <td>No</td>\n",
              "      <td>No</td>\n",
              "      <td>529.250605</td>\n",
              "      <td>35704.49394</td>\n",
              "    </tr>\n",
              "    <tr>\n",
              "      <th>4</th>\n",
              "      <td>No</td>\n",
              "      <td>No</td>\n",
              "      <td>785.655883</td>\n",
              "      <td>38463.49588</td>\n",
              "    </tr>\n",
              "  </tbody>\n",
              "</table>\n",
              "</div>"
            ],
            "text/plain": [
              "  default student      balance       income\n",
              "0      No      No   729.526495  44361.62507\n",
              "1      No     Yes   817.180407  12106.13470\n",
              "2      No      No  1073.549164  31767.13895\n",
              "3      No      No   529.250605  35704.49394\n",
              "4      No      No   785.655883  38463.49588"
            ]
          },
          "metadata": {
            "tags": []
          },
          "execution_count": 27
        }
      ]
    },
    {
      "cell_type": "code",
      "metadata": {
        "id": "OuMas-JgCWBT",
        "outputId": "436c4ced-6b3b-475d-ad73-2cae86f238f8"
      },
      "source": [
        "dataset.describe()\n"
      ],
      "execution_count": null,
      "outputs": [
        {
          "output_type": "execute_result",
          "data": {
            "text/html": [
              "<div>\n",
              "<style scoped>\n",
              "    .dataframe tbody tr th:only-of-type {\n",
              "        vertical-align: middle;\n",
              "    }\n",
              "\n",
              "    .dataframe tbody tr th {\n",
              "        vertical-align: top;\n",
              "    }\n",
              "\n",
              "    .dataframe thead th {\n",
              "        text-align: right;\n",
              "    }\n",
              "</style>\n",
              "<table border=\"1\" class=\"dataframe\">\n",
              "  <thead>\n",
              "    <tr style=\"text-align: right;\">\n",
              "      <th></th>\n",
              "      <th>balance</th>\n",
              "      <th>income</th>\n",
              "    </tr>\n",
              "  </thead>\n",
              "  <tbody>\n",
              "    <tr>\n",
              "      <th>count</th>\n",
              "      <td>10000.000000</td>\n",
              "      <td>10000.000000</td>\n",
              "    </tr>\n",
              "    <tr>\n",
              "      <th>mean</th>\n",
              "      <td>835.374886</td>\n",
              "      <td>33516.981876</td>\n",
              "    </tr>\n",
              "    <tr>\n",
              "      <th>std</th>\n",
              "      <td>483.714985</td>\n",
              "      <td>13336.639563</td>\n",
              "    </tr>\n",
              "    <tr>\n",
              "      <th>min</th>\n",
              "      <td>0.000000</td>\n",
              "      <td>771.967729</td>\n",
              "    </tr>\n",
              "    <tr>\n",
              "      <th>25%</th>\n",
              "      <td>481.731105</td>\n",
              "      <td>21340.462905</td>\n",
              "    </tr>\n",
              "    <tr>\n",
              "      <th>50%</th>\n",
              "      <td>823.636973</td>\n",
              "      <td>34552.644800</td>\n",
              "    </tr>\n",
              "    <tr>\n",
              "      <th>75%</th>\n",
              "      <td>1166.308387</td>\n",
              "      <td>43807.729275</td>\n",
              "    </tr>\n",
              "    <tr>\n",
              "      <th>max</th>\n",
              "      <td>2654.322576</td>\n",
              "      <td>73554.233500</td>\n",
              "    </tr>\n",
              "  </tbody>\n",
              "</table>\n",
              "</div>"
            ],
            "text/plain": [
              "            balance        income\n",
              "count  10000.000000  10000.000000\n",
              "mean     835.374886  33516.981876\n",
              "std      483.714985  13336.639563\n",
              "min        0.000000    771.967729\n",
              "25%      481.731105  21340.462905\n",
              "50%      823.636973  34552.644800\n",
              "75%     1166.308387  43807.729275\n",
              "max     2654.322576  73554.233500"
            ]
          },
          "metadata": {
            "tags": []
          },
          "execution_count": 28
        }
      ]
    },
    {
      "cell_type": "code",
      "metadata": {
        "id": "9AeRyh77CWBT",
        "outputId": "7a30a43e-94d3-410e-9714-5d94f5554126"
      },
      "source": [
        "dataset.columns\n"
      ],
      "execution_count": null,
      "outputs": [
        {
          "output_type": "execute_result",
          "data": {
            "text/plain": [
              "Index(['default', 'student', 'balance', 'income'], dtype='object')"
            ]
          },
          "metadata": {
            "tags": []
          },
          "execution_count": 29
        }
      ]
    },
    {
      "cell_type": "code",
      "metadata": {
        "id": "5MvfA47jCWBU",
        "outputId": "2eff9ace-c32b-4a82-ae57-31c3baa8763b"
      },
      "source": [
        "\n",
        "dataset['default'].unique()"
      ],
      "execution_count": null,
      "outputs": [
        {
          "output_type": "execute_result",
          "data": {
            "text/plain": [
              "array(['No', 'Yes'], dtype=object)"
            ]
          },
          "metadata": {
            "tags": []
          },
          "execution_count": 30
        }
      ]
    },
    {
      "cell_type": "code",
      "metadata": {
        "id": "Y3hNZdGGCWBU"
      },
      "source": [
        "label_default = LabelEncoder()"
      ],
      "execution_count": null,
      "outputs": []
    },
    {
      "cell_type": "code",
      "metadata": {
        "id": "h1LQ6fEHCWBU"
      },
      "source": [
        "#Processing Data\n",
        "dataset['default'] = label_default.fit_transform(dataset['default'])"
      ],
      "execution_count": null,
      "outputs": []
    },
    {
      "cell_type": "code",
      "metadata": {
        "id": "obIblrfOCWBV",
        "outputId": "0779135b-9c89-4222-f9a5-14dff20653ee"
      },
      "source": [
        "# Non- defaulters = 0\n",
        "# Defaulters = 1\n",
        "dataset['default'].value_counts()"
      ],
      "execution_count": null,
      "outputs": [
        {
          "output_type": "execute_result",
          "data": {
            "text/plain": [
              "0    9667\n",
              "1     333\n",
              "Name: default, dtype: int64"
            ]
          },
          "metadata": {
            "tags": []
          },
          "execution_count": 33
        }
      ]
    },
    {
      "cell_type": "code",
      "metadata": {
        "id": "4Wv2ip78CWBV"
      },
      "source": [
        "#Processing Data\n",
        "dataset['student'] = label_default.fit_transform(dataset['student'])"
      ],
      "execution_count": null,
      "outputs": []
    },
    {
      "cell_type": "code",
      "metadata": {
        "id": "xyej2_bsCWBV",
        "outputId": "206dbd12-e159-46b3-a1c0-84199d304a79"
      },
      "source": [
        "# students = 1\n",
        "# non-students = 0\n",
        "dataset['student'].value_counts()"
      ],
      "execution_count": null,
      "outputs": [
        {
          "output_type": "execute_result",
          "data": {
            "text/plain": [
              "0    7056\n",
              "1    2944\n",
              "Name: student, dtype: int64"
            ]
          },
          "metadata": {
            "tags": []
          },
          "execution_count": 35
        }
      ]
    },
    {
      "cell_type": "code",
      "metadata": {
        "id": "K8DBhS4HCWBV",
        "outputId": "712062ea-abc0-4cff-d1f2-6a7424ab9356"
      },
      "source": [
        "dataset['student'].unique()"
      ],
      "execution_count": null,
      "outputs": [
        {
          "output_type": "execute_result",
          "data": {
            "text/plain": [
              "array([0, 1], dtype=int64)"
            ]
          },
          "metadata": {
            "tags": []
          },
          "execution_count": 36
        }
      ]
    },
    {
      "cell_type": "code",
      "metadata": {
        "id": "_49VwQokCWBW",
        "outputId": "c6a0342f-1bfc-402a-8572-0fa173a2faed"
      },
      "source": [
        "sns.countplot(dataset['default'])"
      ],
      "execution_count": null,
      "outputs": [
        {
          "output_type": "execute_result",
          "data": {
            "text/plain": [
              "<matplotlib.axes._subplots.AxesSubplot at 0x18adddcaef0>"
            ]
          },
          "metadata": {
            "tags": []
          },
          "execution_count": 39
        },
        {
          "output_type": "display_data",
          "data": {
            "image/png": "[encoded data removed]",
            "text/plain": [
              "<matplotlib.figure.Figure at 0x18adde8d198>"
            ]
          },
          "metadata": {
            "tags": []
          }
        }
      ]
    },
    {
      "cell_type": "code",
      "metadata": {
        "id": "e9F9Xn3nCWBW",
        "outputId": "b80a32be-86db-4f06-bb42-9f058988b8f3"
      },
      "source": [
        "sns.countplot(dataset['student'])"
      ],
      "execution_count": null,
      "outputs": [
        {
          "output_type": "execute_result",
          "data": {
            "text/plain": [
              "<matplotlib.axes._subplots.AxesSubplot at 0x18ade509780>"
            ]
          },
          "metadata": {
            "tags": []
          },
          "execution_count": 40
        },
        {
          "output_type": "display_data",
          "data": {
            "image/png": "[encoded data removed]",
            "text/plain": [
              "<matplotlib.figure.Figure at 0x18ade270f60>"
            ]
          },
          "metadata": {
            "tags": []
          }
        }
      ]
    },
    {
      "cell_type": "code",
      "metadata": {
        "id": "fxrgF0hpCWBW",
        "outputId": "3e1e0231-b618-4717-f8f3-9315c33d60e0"
      },
      "source": [
        "dataset.hist(column='income', bins=100)"
      ],
      "execution_count": null,
      "outputs": [
        {
          "output_type": "execute_result",
          "data": {
            "text/plain": [
              "array([[<matplotlib.axes._subplots.AxesSubplot object at 0x0000018AE0E627B8>]],\n",
              "      dtype=object)"
            ]
          },
          "metadata": {
            "tags": []
          },
          "execution_count": 95
        },
        {
          "output_type": "display_data",
          "data": {
            "image/png": "[encoded data removed]",
            "text/plain": [
              "<matplotlib.figure.Figure at 0x18ae0e8b5f8>"
            ]
          },
          "metadata": {
            "tags": []
          }
        }
      ]
    },
    {
      "cell_type": "code",
      "metadata": {
        "id": "Qel8Aet2CWBX"
      },
      "source": [
        "#seperating datasets as response and feature variables --18:11\n",
        "X = dataset.drop('default', axis = 1)\n",
        "y = dataset['default']"
      ],
      "execution_count": null,
      "outputs": []
    },
    {
      "cell_type": "code",
      "metadata": {
        "id": "Iqp7ugcgCWBX"
      },
      "source": [
        "#Trainning and testing data\n",
        "\n",
        "X_train,X_test,y_train,y_test = train_test_split(X,y, test_size = 0.3, random_state = 20)"
      ],
      "execution_count": null,
      "outputs": []
    },
    {
      "cell_type": "code",
      "metadata": {
        "id": "9JwmqnvACWBY",
        "outputId": "bb2dc32d-0336-4b68-9713-b8e0e5a59510"
      },
      "source": [
        "\n",
        "# No of Training data \n",
        "len(X_train)\n",
        "len(X_test)\n",
        "X_train"
      ],
      "execution_count": null,
      "outputs": [
        {
          "output_type": "execute_result",
          "data": {
            "text/plain": [
              "array([[-0.64953616, -1.0641174 ,  0.23928657],\n",
              "       [ 1.53956018,  1.4784289 , -0.85261354],\n",
              "       [-0.64953616,  0.2353952 ,  0.54206297],\n",
              "       ...,\n",
              "       [-0.64953616,  0.2525392 ,  1.20658741],\n",
              "       [-0.64953616,  0.40412496,  0.86418358],\n",
              "       [ 1.53956018,  1.00397253, -1.30596774]])"
            ]
          },
          "metadata": {
            "tags": []
          },
          "execution_count": 97
        }
      ]
    },
    {
      "cell_type": "code",
      "metadata": {
        "id": "579JNj_JCWBY"
      },
      "source": [
        "#Applying Standard scaling to get optimized result\n",
        "sc = StandardScaler()\n",
        "X_train = sc.fit_transform(X_train)\n",
        "X_test = sc.transform (X_test)"
      ],
      "execution_count": null,
      "outputs": []
    },
    {
      "cell_type": "code",
      "metadata": {
        "scrolled": true,
        "id": "zQgHtk28CWBY",
        "outputId": "874dc7d7-e7ea-44bc-fc33-0ad0b9b1843b"
      },
      "source": [
        "#first 10 trainned data\n",
        "X_train[:10]"
      ],
      "execution_count": null,
      "outputs": [
        {
          "output_type": "execute_result",
          "data": {
            "text/plain": [
              "array([[-0.64953616, -1.0641174 ,  0.23928657],\n",
              "       [ 1.53956018,  1.4784289 , -0.85261354],\n",
              "       [-0.64953616,  0.2353952 ,  0.54206297],\n",
              "       [ 1.53956018, -0.15432172, -0.85769719],\n",
              "       [-0.64953616,  0.86542525, -0.29319851],\n",
              "       [-0.64953616, -0.9465995 ,  0.68234734],\n",
              "       [-0.64953616,  0.96124137,  0.18575361],\n",
              "       [ 1.53956018,  0.34694454, -0.93206056],\n",
              "       [-0.64953616, -0.9075598 ,  1.0222084 ],\n",
              "       [ 1.53956018, -0.5241573 , -1.12119068]])"
            ]
          },
          "metadata": {
            "tags": []
          },
          "execution_count": 66
        }
      ]
    },
    {
      "cell_type": "markdown",
      "metadata": {
        "id": "GJTGxOY8CWBY"
      },
      "source": [
        "# Random Forest Classifier"
      ]
    },
    {
      "cell_type": "code",
      "metadata": {
        "id": "sFVwqwopCWBZ"
      },
      "source": [
        "#Random Forest Classifier\n",
        "rfc = RandomForestClassifier(n_estimators=200)\n",
        "rfc.fit(X_train, y_train)\n",
        "pred_rfc = rfc.predict(X_test)"
      ],
      "execution_count": null,
      "outputs": []
    },
    {
      "cell_type": "code",
      "metadata": {
        "id": "MU2rMWsQCWBZ",
        "outputId": "f9a1fb98-8518-4115-b4f3-88aad16eb5fc"
      },
      "source": [
        "pred_rfc[:100]"
      ],
      "execution_count": null,
      "outputs": [
        {
          "output_type": "execute_result",
          "data": {
            "text/plain": [
              "array([0, 0, 0, 0, 0, 0, 0, 0, 0, 0, 0, 0, 0, 0, 0, 0, 0, 0, 0, 0, 0, 0,\n",
              "       0, 0, 0, 0, 0, 0, 0, 0, 0, 0, 0, 0, 0, 0, 0, 0, 0, 0, 0, 0, 0, 0,\n",
              "       0, 0, 0, 0, 0, 1, 0, 0, 0, 0, 0, 0, 0, 0, 0, 0, 0, 0, 0, 0, 0, 0,\n",
              "       0, 0, 0, 0, 0, 0, 0, 0, 0, 0, 0, 0, 0, 0, 0, 0, 0, 0, 0, 0, 0, 0,\n",
              "       0, 0, 0, 0, 0, 0, 0, 0, 0, 0, 0, 0], dtype=int64)"
            ]
          },
          "metadata": {
            "tags": []
          },
          "execution_count": 68
        }
      ]
    },
    {
      "cell_type": "markdown",
      "metadata": {
        "id": "ow3NNNHMCWBZ"
      },
      "source": [
        "Y_pred = rfc.predict(x_test)"
      ]
    },
    {
      "cell_type": "code",
      "metadata": {
        "id": "v6UPmeH_CWBZ",
        "outputId": "c7236c64-d117-4b88-c974-286cf50acf2a"
      },
      "source": [
        "rfc_acc = accuracy_score(y_test,Y_pred)*100\n",
        "rfc_acc"
      ],
      "execution_count": null,
      "outputs": [
        {
          "output_type": "execute_result",
          "data": {
            "text/plain": [
              "97.43333333333334"
            ]
          },
          "metadata": {
            "tags": []
          },
          "execution_count": 55
        }
      ]
    },
    {
      "cell_type": "code",
      "metadata": {
        "id": "XdKADthsCWBZ",
        "outputId": "0b9134b0-a3e5-4933-9338-c9249dd49890"
      },
      "source": [
        "#Model Performance\n",
        "\n",
        "print (classification_report (y_test, pred_rfc))\n",
        "print(confusion_matrix(y_test, pred_rfc))"
      ],
      "execution_count": null,
      "outputs": [
        {
          "output_type": "stream",
          "text": [
            "             precision    recall  f1-score   support\n",
            "\n",
            "          0       0.98      0.99      0.99      2916\n",
            "          1       0.57      0.29      0.38        84\n",
            "\n",
            "avg / total       0.97      0.97      0.97      3000\n",
            "\n",
            "[[2898   18]\n",
            " [  60   24]]\n"
          ],
          "name": "stdout"
        }
      ]
    },
    {
      "cell_type": "markdown",
      "metadata": {
        "id": "VJ30pPk7CWBa"
      },
      "source": [
        "# SVM Classifier\n"
      ]
    },
    {
      "cell_type": "code",
      "metadata": {
        "id": "eQsy2r7GCWBa"
      },
      "source": [
        "clf=svm.SVC()\n",
        "clf.fit(X_train, y_train)\n",
        "pred_clf = clf.predict(X_test)"
      ],
      "execution_count": null,
      "outputs": []
    },
    {
      "cell_type": "code",
      "metadata": {
        "id": "4PgUZZK0CWBa",
        "outputId": "83fa1126-22d3-4c7f-9914-c62929e6cd20"
      },
      "source": [
        "#Model Performance\n",
        "print (classification_report (y_test, pred_clf))\n",
        "print(confusion_matrix(y_test, pred_clf))"
      ],
      "execution_count": null,
      "outputs": [
        {
          "output_type": "stream",
          "text": [
            "             precision    recall  f1-score   support\n",
            "\n",
            "          0       0.98      1.00      0.99      2916\n",
            "          1       0.85      0.26      0.40        84\n",
            "\n",
            "avg / total       0.98      0.98      0.97      3000\n",
            "\n",
            "[[2912    4]\n",
            " [  62   22]]\n"
          ],
          "name": "stdout"
        }
      ]
    },
    {
      "cell_type": "markdown",
      "metadata": {
        "id": "mo_wwqSCCWBb"
      },
      "source": [
        "# Neural Network"
      ]
    },
    {
      "cell_type": "code",
      "metadata": {
        "id": "g7HTLExmCWBb"
      },
      "source": [
        "mlpc = MLPClassifier(hidden_layer_sizes =(10,10,10), max_iter=500)\n",
        "mlpc.fit(X_train, y_train)\n",
        "pred_mlpc = mlpc.predict(X_test)"
      ],
      "execution_count": null,
      "outputs": []
    },
    {
      "cell_type": "code",
      "metadata": {
        "id": "FSkGwqt6CWBb",
        "outputId": "ada58286-1d0a-4ce6-fa10-62b41e0eb4cb"
      },
      "source": [
        "#Model Performance\n",
        "print (classification_report (y_test, pred_mlpc))\n",
        "print(confusion_matrix(y_test, pred_mlpc))"
      ],
      "execution_count": null,
      "outputs": [
        {
          "output_type": "stream",
          "text": [
            "             precision    recall  f1-score   support\n",
            "\n",
            "          0       0.98      1.00      0.99      2916\n",
            "          1       0.77      0.32      0.45        84\n",
            "\n",
            "avg / total       0.97      0.98      0.97      3000\n",
            "\n",
            "[[2908    8]\n",
            " [  57   27]]\n"
          ],
          "name": "stdout"
        }
      ]
    },
    {
      "cell_type": "code",
      "metadata": {
        "id": "JuBYNbisCWBb",
        "outputId": "38b8a8c7-a898-4571-f64c-7eeabac16884"
      },
      "source": [
        "from sklearn.metrics import accuracy_score\n",
        "bestmodel = accuracy_score(y_test, pred_clf)\n",
        "bestmodel"
      ],
      "execution_count": null,
      "outputs": [
        {
          "output_type": "execute_result",
          "data": {
            "text/plain": [
              "0.978"
            ]
          },
          "metadata": {
            "tags": []
          },
          "execution_count": 82
        }
      ]
    },
    {
      "cell_type": "code",
      "metadata": {
        "id": "Z-x2F-mNCWBb",
        "outputId": "55ba54fe-0338-4918-82be-67d4adce8e54"
      },
      "source": [
        "dataset.head(10)"
      ],
      "execution_count": null,
      "outputs": [
        {
          "output_type": "execute_result",
          "data": {
            "text/html": [
              "<div>\n",
              "<style scoped>\n",
              "    .dataframe tbody tr th:only-of-type {\n",
              "        vertical-align: middle;\n",
              "    }\n",
              "\n",
              "    .dataframe tbody tr th {\n",
              "        vertical-align: top;\n",
              "    }\n",
              "\n",
              "    .dataframe thead th {\n",
              "        text-align: right;\n",
              "    }\n",
              "</style>\n",
              "<table border=\"1\" class=\"dataframe\">\n",
              "  <thead>\n",
              "    <tr style=\"text-align: right;\">\n",
              "      <th></th>\n",
              "      <th>default</th>\n",
              "      <th>student</th>\n",
              "      <th>balance</th>\n",
              "      <th>income</th>\n",
              "    </tr>\n",
              "  </thead>\n",
              "  <tbody>\n",
              "    <tr>\n",
              "      <th>0</th>\n",
              "      <td>0</td>\n",
              "      <td>0</td>\n",
              "      <td>729.526495</td>\n",
              "      <td>44361.625070</td>\n",
              "    </tr>\n",
              "    <tr>\n",
              "      <th>1</th>\n",
              "      <td>0</td>\n",
              "      <td>1</td>\n",
              "      <td>817.180407</td>\n",
              "      <td>12106.134700</td>\n",
              "    </tr>\n",
              "    <tr>\n",
              "      <th>2</th>\n",
              "      <td>0</td>\n",
              "      <td>0</td>\n",
              "      <td>1073.549164</td>\n",
              "      <td>31767.138950</td>\n",
              "    </tr>\n",
              "    <tr>\n",
              "      <th>3</th>\n",
              "      <td>0</td>\n",
              "      <td>0</td>\n",
              "      <td>529.250605</td>\n",
              "      <td>35704.493940</td>\n",
              "    </tr>\n",
              "    <tr>\n",
              "      <th>4</th>\n",
              "      <td>0</td>\n",
              "      <td>0</td>\n",
              "      <td>785.655883</td>\n",
              "      <td>38463.495880</td>\n",
              "    </tr>\n",
              "    <tr>\n",
              "      <th>5</th>\n",
              "      <td>0</td>\n",
              "      <td>1</td>\n",
              "      <td>919.588530</td>\n",
              "      <td>7491.558572</td>\n",
              "    </tr>\n",
              "    <tr>\n",
              "      <th>6</th>\n",
              "      <td>0</td>\n",
              "      <td>0</td>\n",
              "      <td>825.513330</td>\n",
              "      <td>24905.226580</td>\n",
              "    </tr>\n",
              "    <tr>\n",
              "      <th>7</th>\n",
              "      <td>0</td>\n",
              "      <td>1</td>\n",
              "      <td>808.667504</td>\n",
              "      <td>17600.451340</td>\n",
              "    </tr>\n",
              "    <tr>\n",
              "      <th>8</th>\n",
              "      <td>0</td>\n",
              "      <td>0</td>\n",
              "      <td>1161.057854</td>\n",
              "      <td>37468.529290</td>\n",
              "    </tr>\n",
              "    <tr>\n",
              "      <th>9</th>\n",
              "      <td>0</td>\n",
              "      <td>0</td>\n",
              "      <td>0.000000</td>\n",
              "      <td>29275.268290</td>\n",
              "    </tr>\n",
              "  </tbody>\n",
              "</table>\n",
              "</div>"
            ],
            "text/plain": [
              "   default  student      balance        income\n",
              "0        0        0   729.526495  44361.625070\n",
              "1        0        1   817.180407  12106.134700\n",
              "2        0        0  1073.549164  31767.138950\n",
              "3        0        0   529.250605  35704.493940\n",
              "4        0        0   785.655883  38463.495880\n",
              "5        0        1   919.588530   7491.558572\n",
              "6        0        0   825.513330  24905.226580\n",
              "7        0        1   808.667504  17600.451340\n",
              "8        0        0  1161.057854  37468.529290\n",
              "9        0        0     0.000000  29275.268290"
            ]
          },
          "metadata": {
            "tags": []
          },
          "execution_count": 86
        }
      ]
    },
    {
      "cell_type": "code",
      "metadata": {
        "id": "8zjOJZrcCWBc"
      },
      "source": [
        "The SVM Classifier has proved to be the most precise model with the data that was given.\n",
        "Its accuracy level is at 98% while that of Neural network and Random forest classifier are at 97%"
      ],
      "execution_count": null,
      "outputs": []
    }
  ]
}